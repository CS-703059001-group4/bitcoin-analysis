{
 "cells": [
  {
   "cell_type": "code",
   "execution_count": 40,
   "metadata": {},
   "outputs": [],
   "source": [
    "import findspark\n",
    "findspark.init()\n",
    "\n",
    "import pyspark\n",
    "from pyspark import SparkConf\n",
    "from pyspark.context import SparkContext\n",
    "from pyspark.sql import SparkSession, SQLContext\n",
    "from pyspark.sql.functions import *\n",
    "from pyspark.sql.types import *\n",
    "from datetime import date\n",
    "import numpy as np \n",
    "import pandas as pd\n",
    "from pandas import DataFrame\n",
    "from pyspark.sql.functions import udf\n",
    "import matplotlib.pyplot as plt\n",
    "%matplotlib inline\n",
    "import seaborn as sns\n"
   ]
  },
  {
   "cell_type": "code",
   "execution_count": 41,
   "metadata": {},
   "outputs": [],
   "source": [
    "def tx_date(s):\n",
    "    x = date.fromtimestamp(s)\n",
    "    return x\n"
   ]
  },
  {
   "cell_type": "code",
   "execution_count": 42,
   "metadata": {
    "scrolled": true
   },
   "outputs": [],
   "source": [
    "spark = SparkSession.builder \\\n",
    "                    .master(\"local\") \\\n",
    "                    .config(\"spark.driver.memory\", \"8g\") \\\n",
    "                    .getOrCreate()\n",
    "spark.conf.set(\"spark.executor.memory\", \"8g\")\n",
    "\n",
    "sc = spark.sparkContext\n",
    "sqlContext = SQLContext(sc)\n",
    "\n",
    "df = sqlContext.read.parquet('E:\\\\0.parquet')\n",
    "df = df.toPandas()\n"
   ]
  },
  {
   "cell_type": "code",
   "execution_count": 43,
   "metadata": {},
   "outputs": [
    {
     "name": "stdout",
     "output_type": "stream",
     "text": [
      "0         2017-09-26\n",
      "1         2017-09-26\n",
      "2         2017-09-26\n",
      "3         2017-09-26\n",
      "4         2017-09-26\n",
      "5         2017-09-26\n",
      "6         2017-09-26\n",
      "7         2017-09-26\n",
      "8         2017-09-26\n",
      "9         2017-09-26\n",
      "10        2017-09-26\n",
      "11        2017-09-26\n",
      "12        2017-09-26\n",
      "13        2017-09-26\n",
      "14        2017-09-26\n",
      "15        2017-09-26\n",
      "16        2017-09-26\n",
      "17        2017-09-26\n",
      "18        2017-09-26\n",
      "19        2017-09-26\n",
      "20        2017-09-26\n",
      "21        2017-09-26\n",
      "22        2017-09-26\n",
      "23        2017-09-26\n",
      "24        2017-09-26\n",
      "25        2017-09-26\n",
      "26        2017-09-26\n",
      "27        2017-09-26\n",
      "28        2017-09-26\n",
      "29        2017-09-26\n",
      "             ...    \n",
      "245477    2017-09-26\n",
      "245478    2017-09-26\n",
      "245479    2017-09-26\n",
      "245480    2017-09-26\n",
      "245481    2017-09-26\n",
      "245482    2017-09-26\n",
      "245483    2017-09-26\n",
      "245484    2017-09-26\n",
      "245485    2017-09-26\n",
      "245486    2017-09-26\n",
      "245487    2017-09-26\n",
      "245488    2017-09-26\n",
      "245489    2017-09-26\n",
      "245490    2017-09-26\n",
      "245491    2017-09-26\n",
      "245492    2017-09-26\n",
      "245493    2017-09-26\n",
      "245494    2017-09-26\n",
      "245495    2017-09-26\n",
      "245496    2017-09-26\n",
      "245497    2017-09-26\n",
      "245498    2017-09-26\n",
      "245499    2017-09-26\n",
      "245500    2017-09-26\n",
      "245501    2017-09-26\n",
      "245502    2017-09-26\n",
      "245503    2017-09-26\n",
      "245504    2017-09-26\n",
      "245505    2017-09-26\n",
      "245506    2017-09-26\n",
      "Name: date, Length: 245507, dtype: object\n"
     ]
    }
   ],
   "source": [
    "#df = df.head(10)\n",
    "#print(df)\n",
    "\n",
    "received_time = []\n",
    "for i in df.iloc[:,3]:\n",
    "    received_time.append(tx_date(i).strftime(\"%Y-%m-%d\"))\n",
    "df['date'] = received_time\n",
    "print(df['date'])\n"
   ]
  },
  {
   "cell_type": "code",
   "execution_count": 44,
   "metadata": {},
   "outputs": [
    {
     "name": "stdout",
     "output_type": "stream",
     "text": [
      "        inputn  outputn\n",
      "0            1        2\n",
      "1            1        2\n",
      "2            1        2\n",
      "3           10        1\n",
      "4            1        2\n",
      "5            1        2\n",
      "6            6        2\n",
      "7            2        2\n",
      "8            1        2\n",
      "9           15        1\n",
      "10           1        2\n",
      "11           1        2\n",
      "12           1        2\n",
      "13           2        2\n",
      "14           1        2\n",
      "15           1        2\n",
      "16           1        2\n",
      "17           1        2\n",
      "18           1        2\n",
      "19           1        2\n",
      "20           7        2\n",
      "21           1        2\n",
      "22           1        2\n",
      "23           1        1\n",
      "24           1        1\n",
      "25          12        1\n",
      "26           2        2\n",
      "27           2        2\n",
      "28           1        2\n",
      "29           4        2\n",
      "...        ...      ...\n",
      "245477       3        2\n",
      "245478       3        2\n",
      "245479       3        2\n",
      "245480       2        2\n",
      "245481       3        2\n",
      "245482       2        2\n",
      "245483       2        2\n",
      "245484       3        2\n",
      "245485       2        2\n",
      "245486       1        2\n",
      "245487       1        2\n",
      "245488       2        2\n",
      "245489       4        2\n",
      "245490       2        2\n",
      "245491       1        2\n",
      "245492       1        2\n",
      "245493       1        2\n",
      "245494       1       18\n",
      "245495       4        2\n",
      "245496       3        2\n",
      "245497       1        9\n",
      "245498       1        2\n",
      "245499       1        2\n",
      "245500       1        2\n",
      "245501       1        7\n",
      "245502       1        3\n",
      "245503       1        3\n",
      "245504       1        2\n",
      "245505       1        2\n",
      "245506       2        2\n",
      "\n",
      "[245507 rows x 2 columns]\n",
      "              date inNum outNum\n",
      "0       2017-09-26     1      2\n",
      "1       2017-09-26     1      2\n",
      "2       2017-09-26     1      2\n",
      "3       2017-09-26    10      1\n",
      "4       2017-09-26     1      2\n",
      "5       2017-09-26     1      2\n",
      "6       2017-09-26     6      2\n",
      "7       2017-09-26     2      2\n",
      "8       2017-09-26     1      2\n",
      "9       2017-09-26    15      1\n",
      "10      2017-09-26     1      2\n",
      "11      2017-09-26     1      2\n",
      "12      2017-09-26     1      2\n",
      "13      2017-09-26     2      2\n",
      "14      2017-09-26     1      2\n",
      "15      2017-09-26     1      2\n",
      "16      2017-09-26     1      2\n",
      "17      2017-09-26     1      2\n",
      "18      2017-09-26     1      2\n",
      "19      2017-09-26     1      2\n",
      "20      2017-09-26     7      2\n",
      "21      2017-09-26     1      2\n",
      "22      2017-09-26     1      2\n",
      "23      2017-09-26     1      1\n",
      "24      2017-09-26     1      1\n",
      "25      2017-09-26    12      1\n",
      "26      2017-09-26     2      2\n",
      "27      2017-09-26     2      2\n",
      "28      2017-09-26     1      2\n",
      "29      2017-09-26     4      2\n",
      "...            ...   ...    ...\n",
      "245477  2017-09-26     3      2\n",
      "245478  2017-09-26     3      2\n",
      "245479  2017-09-26     3      2\n",
      "245480  2017-09-26     2      2\n",
      "245481  2017-09-26     3      2\n",
      "245482  2017-09-26     2      2\n",
      "245483  2017-09-26     2      2\n",
      "245484  2017-09-26     3      2\n",
      "245485  2017-09-26     2      2\n",
      "245486  2017-09-26     1      2\n",
      "245487  2017-09-26     1      2\n",
      "245488  2017-09-26     2      2\n",
      "245489  2017-09-26     4      2\n",
      "245490  2017-09-26     2      2\n",
      "245491  2017-09-26     1      2\n",
      "245492  2017-09-26     1      2\n",
      "245493  2017-09-26     1      2\n",
      "245494  2017-09-26     1     18\n",
      "245495  2017-09-26     4      2\n",
      "245496  2017-09-26     3      2\n",
      "245497  2017-09-26     1      9\n",
      "245498  2017-09-26     1      2\n",
      "245499  2017-09-26     1      2\n",
      "245500  2017-09-26     1      2\n",
      "245501  2017-09-26     1      7\n",
      "245502  2017-09-26     1      3\n",
      "245503  2017-09-26     1      3\n",
      "245504  2017-09-26     1      2\n",
      "245505  2017-09-26     1      2\n",
      "245506  2017-09-26     2      2\n",
      "\n",
      "[245507 rows x 3 columns]\n"
     ]
    }
   ],
   "source": [
    "vin = []\n",
    "for i in df['vin']:\n",
    "    vin.append(len(i))\n",
    "vout = []\n",
    "for i in df['vout']:\n",
    "    vout.append(len(i))\n",
    "\n",
    "\n",
    "pf = pd.DataFrame([vin,vout], index = ['inputn','outputn']).transpose()\n",
    "print(pf)\n",
    "\n",
    "pf1 = pd.DataFrame([df['date'],pf['inputn'],pf['outputn']], index = ['date','inNum','outNum']).transpose()\n",
    "print(pf1)\n"
   ]
  },
  {
   "cell_type": "code",
   "execution_count": 45,
   "metadata": {},
   "outputs": [
    {
     "name": "stdout",
     "output_type": "stream",
     "text": [
      "             inNum  outNum\n",
      "date                      \n",
      "2017-09-24   36317   35081\n",
      "2017-09-25  204672  236867\n",
      "2017-09-26  342145  357650\n",
      "2017-09-27   29744   30588\n"
     ]
    }
   ],
   "source": [
    "pf2 = pf1.groupby(['date']).sum()\n",
    "print(pf2)\n"
   ]
  },
  {
   "cell_type": "code",
   "execution_count": 48,
   "metadata": {},
   "outputs": [
    {
     "data": {
      "image/png": "[encoded data removed]",
      "text/plain": [
       "<Figure size 432x288 with 1 Axes>"
      ]
     },
     "metadata": {
      "needs_background": "light"
     },
     "output_type": "display_data"
    },
    {
     "data": {
      "image/png": "[encoded data removed]",
      "text/plain": [
       "<Figure size 432x288 with 1 Axes>"
      ]
     },
     "metadata": {
      "needs_background": "light"
     },
     "output_type": "display_data"
    }
   ],
   "source": [
    "\n",
    "plt.scatter(pf1['date'],pf1['inNum'], label='number of input', color='k', s=25, marker=\"o\")\n",
    "plt.xlabel('number')\n",
    "plt.ylabel('date')\n",
    "plt.title('total numbers of input account')\n",
    "plt.legend()\n",
    "plt.show()\n",
    "\n",
    "plt.scatter(pf1['date'],pf1['outNum'], label='number of output', color='b', s=25, marker=\"o\")\n",
    "plt.xlabel('number')\n",
    "plt.ylabel('date')\n",
    "plt.title('total numbers of output account')\n",
    "plt.legend()\n",
    "plt.show()"
   ]
  },
  {
   "cell_type": "code",
   "execution_count": null,
   "metadata": {},
   "outputs": [],
   "source": []
  }
 ],
 "metadata": {
  "kernelspec": {
   "display_name": "Python 3",
   "language": "python",
   "name": "python3"
  },
  "language_info": {
   "codemirror_mode": {
    "name": "ipython",
    "version": 3
   },
   "file_extension": ".py",
   "mimetype": "text/x-python",
   "name": "python",
   "nbconvert_exporter": "python",
   "pygments_lexer": "ipython3",
   "version": "3.6.1"
  }
 },
 "nbformat": 4,
 "nbformat_minor": 2
}

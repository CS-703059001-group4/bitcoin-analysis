{
 "cells": [
  {
   "cell_type": "code",
   "execution_count": 80,
   "metadata": {},
   "outputs": [],
   "source": [
    "import findspark\n",
    "findspark.init()"
   ]
  },
  {
   "cell_type": "code",
   "execution_count": 117,
   "metadata": {},
   "outputs": [],
   "source": [
    "import pyspark\n",
    "from pyspark.context import SparkContext\n",
    "from pyspark.sql import SparkSession, SQLContext\n",
    "from pyspark.sql.functions import *\n",
    "from pyspark.sql.types import *\n",
    "from datetime import date\n",
    "import time\n",
    "from IPython.core.display import display, HTML\n",
    "from string import Template\n",
    "import json\n",
    "import plotly.plotly as py\n",
    "import plotly.graph_objs as go\n",
    "import plotly\n",
    "plotly.tools.set_credentials_file(username='poying', api_key='--')\n",
    "\n",
    "def date_converter(d):\n",
    "    if isinstance(d, date):\n",
    "        d = time.mktime(d.timetuple())\n",
    "    return d\n",
    "\n",
    "spark = SparkSession.builder \\\n",
    "                    .master(\"local[4]\") \\\n",
    "                    .config(\"spark.driver.memory\", \"4g\") \\\n",
    "                    .getOrCreate()\n",
    "\n",
    "sc = spark.sparkContext"
   ]
  },
  {
   "cell_type": "code",
   "execution_count": 6,
   "metadata": {},
   "outputs": [],
   "source": [
    "df = spark.read.load(\"../data/*.parquet\")"
   ]
  },
  {
   "cell_type": "code",
   "execution_count": 7,
   "metadata": {},
   "outputs": [
    {
     "data": {
      "text/plain": [
       "Row(date=datetime.date(2018, 9, 9), types={u'witness_v0_keyhash': 13282, u'witness_v0_scripthash': 470, u'nulldata': 7212, u'scripthash': 59246, u'pubkeyhash': 83032, u'nonstandard': 21, u'multisig': 3, u'pubkey': 138})"
      ]
     },
     "execution_count": 7,
     "metadata": {},
     "output_type": "execute_result"
    }
   ],
   "source": [
    "def vout_types(li):\n",
    "    d = set([])\n",
    "    for i in li:\n",
    "        d.add(i[\"type\"])\n",
    "    return list(d)\n",
    "\n",
    "def tx_date(s):\n",
    "    return date.fromtimestamp(s)\n",
    "\n",
    "def count_types(types):\n",
    "    counter = {}\n",
    "    for li in types:\n",
    "        for i in li:\n",
    "            counter[i] = counter.get(i, 0) + 1\n",
    "    return counter\n",
    "\n",
    "df = df.withColumn(\"vout_types\", udf(vout_types, returnType=ArrayType(StringType()))(\"vout\"))\n",
    "df = df.withColumn(\"date\", udf(tx_date, returnType=DateType())(\"received_time\"))\n",
    "df = df.groupBy(\"date\").agg(collect_list(\"vout_types\").alias(\"vout_types_nested\"))\n",
    "df = df.select(\"date\", \"vout_types_nested\").withColumn(\"types\", udf(count_types, returnType=MapType(StringType(), IntegerType()))(\"vout_types_nested\"))\n",
    "df = df.select(\"date\", \"types\")\n",
    "df.head()"
   ]
  },
  {
   "cell_type": "code",
   "execution_count": 8,
   "metadata": {},
   "outputs": [],
   "source": [
    "data = df.collect()"
   ]
  },
  {
   "cell_type": "code",
   "execution_count": 97,
   "metadata": {},
   "outputs": [
    {
     "data": {
      "text/html": [
       "\n",
       "<script> \n",
       "{\n",
       "let data = [[1536422400.0, {\"witness_v0_keyhash\": 13282, \"witness_v0_scripthash\": 470, \"nulldata\": 7212, \"scripthash\": 59246, \"pubkeyhash\": 83032, \"nonstandard\": 21, \"multisig\": 3, \"pubkey\": 138}], [1538668800.0, {\"witness_v0_keyhash\": 31047, \"witness_v0_scripthash\": 810, \"nulldata\": 16822, \"scripthash\": 129892, \"pubkeyhash\": 167748, \"nonstandard\": 29, \"multisig\": 3, \"pubkey\": 180}], [1536336000.0, {\"pubkeyhash\": 23348, \"witness_v0_scripthash\": 117, \"nulldata\": 1122, \"witness_v0_keyhash\": 4469, \"scripthash\": 15931, \"pubkey\": 38, \"nonstandard\": 3}], [1537200000.0, {\"witness_v0_keyhash\": 33455, \"witness_v0_scripthash\": 1328, \"nulldata\": 15364, \"scripthash\": 144285, \"pubkeyhash\": 197735, \"nonstandard\": 39, \"multisig\": 7, \"pubkey\": 255}], [1537718400.0, {\"witness_v0_keyhash\": 28866, \"witness_v0_scripthash\": 987, \"nulldata\": 21275, \"scripthash\": 120568, \"pubkeyhash\": 176219, \"nonstandard\": 34, \"multisig\": 6, \"pubkey\": 208}], [1538582400.0, {\"pubkey\": 218, \"witness_v0_scripthash\": 923, \"nulldata\": 19581, \"witness_v0_keyhash\": 31774, \"scripthash\": 145734, \"pubkeyhash\": 195557, \"nonstandard\": 35, \"multisig\": 4}], [1539014400.0, {\"witness_v0_keyhash\": 28775, \"witness_v0_scripthash\": 940, \"nulldata\": 19271, \"scripthash\": 134871, \"pubkeyhash\": 185250, \"nonstandard\": 28, \"multisig\": 10, \"pubkey\": 274}], [1537286400.0, {\"witness_v0_keyhash\": 31105, \"witness_v0_scripthash\": 1433, \"nulldata\": 23275, \"scripthash\": 134289, \"pubkeyhash\": 193425, \"nonstandard\": 33, \"multisig\": 2, \"pubkey\": 268}], [1538236800.0, {\"witness_v0_keyhash\": 28105, \"witness_v0_scripthash\": 718, \"nulldata\": 23005, \"scripthash\": 116818, \"pubkeyhash\": 161988, \"nonstandard\": 36, \"multisig\": 3, \"pubkey\": 208}], [1538841600.0, {\"witness_v0_keyhash\": 27580, \"witness_v0_scripthash\": 539, \"nulldata\": 16895, \"scripthash\": 131185, \"pubkeyhash\": 147769, \"nonstandard\": 35, \"multisig\": 5, \"pubkey\": 172}], [1539532800.0, {\"pubkey\": 286, \"witness_v0_scripthash\": 902, \"nulldata\": 26709, \"witness_v0_keyhash\": 31070, \"scripthash\": 141007, \"pubkeyhash\": 195338, \"nonstandard\": 30, \"multisig\": 6}], [1536595200.0, {\"witness_v0_keyhash\": 30203, \"witness_v0_scripthash\": 1181, \"nulldata\": 10995, \"scripthash\": 122873, \"pubkeyhash\": 178217, \"nonstandard\": 35, \"multisig\": 6, \"pubkey\": 276}], [1538323200.0, {\"pubkey\": 220, \"witness_v0_scripthash\": 970, \"nulldata\": 18334, \"witness_v0_keyhash\": 30659, \"scripthash\": 127289, \"pubkeyhash\": 174276, \"nonstandard\": 40, \"multisig\": 3}], [1539360000.0, {\"witness_v0_keyhash\": 29510, \"witness_v0_scripthash\": 595, \"nulldata\": 16707, \"scripthash\": 128207, \"pubkeyhash\": 169210, \"nonstandard\": 36, \"multisig\": 5, \"pubkey\": 263}], [1537027200.0, {\"witness_v0_keyhash\": 27359, \"witness_v0_scripthash\": 1027, \"nulldata\": 8883, \"scripthash\": 103272, \"pubkeyhash\": 143933, \"nonstandard\": 28, \"multisig\": 3, \"pubkey\": 300}], [1536940800.0, {\"pubkey\": 264, \"witness_v0_scripthash\": 1096, \"nulldata\": 9714, \"witness_v0_keyhash\": 33507, \"scripthash\": 128817, \"pubkeyhash\": 181155, \"nonstandard\": 42, \"multisig\": 5}], [1538409600.0, {\"witness_v0_keyhash\": 31775, \"witness_v0_scripthash\": 874, \"nulldata\": 16162, \"scripthash\": 137601, \"pubkeyhash\": 185583, \"nonstandard\": 35, \"multisig\": 1, \"pubkey\": 188}], [1536768000.0, {\"pubkey\": 271, \"witness_v0_scripthash\": 1300, \"nulldata\": 11219, \"witness_v0_keyhash\": 31766, \"scripthash\": 129403, \"pubkeyhash\": 185822, \"nonstandard\": 34, \"multisig\": 13}], [1536163200.0, {\"pubkeyhash\": 30820, \"witness_v0_scripthash\": 134, \"nulldata\": 2606, \"scripthash\": 18912, \"witness_v0_keyhash\": 4623, \"nonstandard\": 5, \"pubkey\": 36}], [1538928000.0, {\"pubkey\": 146, \"witness_v0_scripthash\": 646, \"nulldata\": 17676, \"witness_v0_keyhash\": 27855, \"scripthash\": 151053, \"pubkeyhash\": 171619, \"nonstandard\": 30, \"multisig\": 1}], [1535904000.0, {\"pubkeyhash\": 4453, \"witness_v0_scripthash\": 24, \"nulldata\": 194, \"witness_v0_keyhash\": 739, \"scripthash\": 3083, \"pubkey\": 7, \"nonstandard\": 1}], [1539705600.0, {\"pubkey\": 254, \"witness_v0_scripthash\": 768, \"nulldata\": 23542, \"witness_v0_keyhash\": 31622, \"scripthash\": 150942, \"pubkeyhash\": 206410, \"nonstandard\": 22, \"multisig\": 61}], [1536249600.0, {\"pubkeyhash\": 16096, \"witness_v0_scripthash\": 70, \"nulldata\": 1088, \"scripthash\": 11221, \"witness_v0_keyhash\": 4397, \"nonstandard\": 3, \"pubkey\": 22}], [1539964800.0, {\"witness_v0_keyhash\": 14686, \"witness_v0_scripthash\": 248, \"nulldata\": 7493, \"scripthash\": 57953, \"pubkeyhash\": 79287, \"nonstandard\": 9, \"multisig\": 1, \"pubkey\": 71}], [1536076800.0, {\"pubkeyhash\": 42417, \"witness_v0_scripthash\": 191, \"nulldata\": 2377, \"witness_v0_keyhash\": 7669, \"scripthash\": 30831, \"pubkey\": 39, \"nonstandard\": 6}], [1537545600.0, {\"pubkey\": 268, \"witness_v0_scripthash\": 1111, \"nulldata\": 18633, \"witness_v0_keyhash\": 35413, \"scripthash\": 138511, \"pubkeyhash\": 182428, \"nonstandard\": 31, \"multisig\": 7}], [1537891200.0, {\"witness_v0_keyhash\": 32462, \"witness_v0_scripthash\": 1248, \"nulldata\": 22188, \"scripthash\": 139291, \"pubkeyhash\": 192652, \"nonstandard\": 32, \"multisig\": 4, \"pubkey\": 183}], [1536681600.0, {\"witness_v0_keyhash\": 32884, \"witness_v0_scripthash\": 1450, \"nulldata\": 13361, \"scripthash\": 132864, \"pubkeyhash\": 192945, \"nonstandard\": 37, \"multisig\": 4, \"pubkey\": 260}], [1537977600.0, {\"pubkey\": 202, \"witness_v0_scripthash\": 1188, \"nulldata\": 20096, \"witness_v0_keyhash\": 31803, \"scripthash\": 135268, \"pubkeyhash\": 182581, \"nonstandard\": 31, \"multisig\": 2}], [1538496000.0, {\"pubkey\": 239, \"witness_v0_scripthash\": 881, \"nulldata\": 15291, \"witness_v0_keyhash\": 30941, \"scripthash\": 145518, \"pubkeyhash\": 187480, \"nonstandard\": 28, \"multisig\": 3}], [1537804800.0, {\"pubkey\": 200, \"witness_v0_scripthash\": 1284, \"nulldata\": 22304, \"witness_v0_keyhash\": 32877, \"scripthash\": 140500, \"pubkeyhash\": 193713, \"nonstandard\": 40, \"multisig\": 4}], [1538150400.0, {\"witness_v0_keyhash\": 32713, \"witness_v0_scripthash\": 809, \"nulldata\": 21917, \"scripthash\": 141947, \"pubkeyhash\": 192208, \"nonstandard\": 36, \"multisig\": 9, \"pubkey\": 292}], [1537632000.0, {\"witness_v0_keyhash\": 29004, \"witness_v0_scripthash\": 994, \"nulldata\": 19304, \"scripthash\": 113268, \"pubkeyhash\": 156431, \"nonstandard\": 35, \"multisig\": 4, \"pubkey\": 229}], [1539878400.0, {\"witness_v0_keyhash\": 30974, \"witness_v0_scripthash\": 744, \"nulldata\": 23803, \"scripthash\": 142770, \"pubkeyhash\": 192423, \"nonstandard\": 30, \"multisig\": 7, \"pubkey\": 298}], [1539100800.0, {\"pubkey\": 143, \"witness_v0_scripthash\": 895, \"nulldata\": 19270, \"witness_v0_keyhash\": 30712, \"scripthash\": 143527, \"pubkeyhash\": 193212, \"nonstandard\": 30, \"multisig\": 5}], [1539273600.0, {\"pubkey\": 281, \"witness_v0_scripthash\": 857, \"nulldata\": 19507, \"witness_v0_keyhash\": 32184, \"scripthash\": 140072, \"pubkeyhash\": 185785, \"nonstandard\": 29, \"multisig\": 2}], [1539619200.0, {\"witness_v0_keyhash\": 31418, \"witness_v0_scripthash\": 856, \"nulldata\": 27664, \"scripthash\": 141751, \"pubkeyhash\": 197640, \"nonstandard\": 28, \"multisig\": 19, \"pubkey\": 260}], [1538755200.0, {\"witness_v0_keyhash\": 30753, \"witness_v0_scripthash\": 697, \"nulldata\": 16579, \"scripthash\": 144575, \"pubkeyhash\": 190790, \"nonstandard\": 33, \"multisig\": 5, \"pubkey\": 214}], [1539187200.0, {\"pubkey\": 156, \"witness_v0_scripthash\": 967, \"nulldata\": 22843, \"witness_v0_keyhash\": 32632, \"scripthash\": 148173, \"pubkeyhash\": 201990, \"nonstandard\": 44, \"multisig\": 2}], [1538064000.0, {\"witness_v0_keyhash\": 35126, \"witness_v0_scripthash\": 993, \"nulldata\": 22164, \"scripthash\": 144037, \"pubkeyhash\": 194081, \"nonstandard\": 50, \"multisig\": 6, \"pubkey\": 210}], [1536508800.0, {\"witness_v0_keyhash\": 29049, \"witness_v0_scripthash\": 974, \"nulldata\": 10266, \"scripthash\": 117359, \"pubkeyhash\": 162852, \"nonstandard\": 34, \"multisig\": 3, \"pubkey\": 259}], [1539792000.0, {\"witness_v0_keyhash\": 31351, \"witness_v0_scripthash\": 753, \"nulldata\": 24452, \"scripthash\": 138409, \"pubkeyhash\": 194611, \"nonstandard\": 24, \"multisig\": 5, \"pubkey\": 280}], [1537372800.0, {\"witness_v0_keyhash\": 32213, \"witness_v0_scripthash\": 1371, \"nulldata\": 26170, \"scripthash\": 134606, \"pubkeyhash\": 192462, \"nonstandard\": 31, \"multisig\": 2, \"pubkey\": 258}], [1535990400.0, {\"pubkeyhash\": 9140, \"witness_v0_scripthash\": 47, \"nulldata\": 467, \"witness_v0_keyhash\": 1645, \"scripthash\": 6789, \"pubkey\": 12, \"nonstandard\": 1}], [1537459200.0, {\"witness_v0_keyhash\": 40264, \"witness_v0_scripthash\": 1224, \"nulldata\": 23624, \"scripthash\": 155897, \"pubkeyhash\": 216234, \"nonstandard\": 28, \"multisig\": 1, \"pubkey\": 284}], [1537113600.0, {\"witness_v0_keyhash\": 28605, \"witness_v0_scripthash\": 1089, \"nulldata\": 13244, \"scripthash\": 120386, \"pubkeyhash\": 168795, \"nonstandard\": 30, \"multisig\": 4, \"pubkey\": 274}], [1539446400.0, {\"witness_v0_keyhash\": 26064, \"witness_v0_scripthash\": 545, \"nulldata\": 14990, \"scripthash\": 110008, \"pubkeyhash\": 140032, \"nonstandard\": 22, \"multisig\": 5, \"pubkey\": 259}], [1536854400.0, {\"witness_v0_keyhash\": 29189, \"witness_v0_scripthash\": 1036, \"nulldata\": 10375, \"scripthash\": 120462, \"pubkeyhash\": 166539, \"nonstandard\": 34, \"multisig\": 6, \"pubkey\": 266}]];\n",
       "data = data.sort((a, b) => a[0] - b[0]);\n",
       "\n",
       "const dates = data.map(d => new Date(d[0] * 1000));\n",
       "\n",
       "let typeNames = data\n",
       "  .map(d => Object.keys(d[1]))\n",
       "  .reduce((a, b) => a.concat(b), []);\n",
       "typeNames = Array.from(new Set(typeNames));\n",
       "\n",
       "const types = typeNames.map(typeName => data.map(d => d[1][typeName] || 0));\n",
       "\n",
       "IPython.notebook.kernel.execute('dates=' + JSON.stringify(dates));\n",
       "IPython.notebook.kernel.execute('typeNames=' + JSON.stringify(typeNames));\n",
       "IPython.notebook.kernel.execute('types=' + JSON.stringify(types));\n",
       "\n",
       "}\n",
       " </script>\n"
      ],
      "text/plain": [
       "<IPython.core.display.HTML object>"
      ]
     },
     "execution_count": 97,
     "metadata": {},
     "output_type": "execute_result"
    }
   ],
   "source": [
    "js_text_template = Template('''\n",
    "{\n",
    "let data = $python_data;\n",
    "data = data.sort((a, b) => a[0] - b[0]);\n",
    "\n",
    "const dates = data.map(d => new Date(d[0] * 1000));\n",
    "\n",
    "let typeNames = data\n",
    "  .map(d => Object.keys(d[1]))\n",
    "  .reduce((a, b) => a.concat(b), []);\n",
    "typeNames = Array.from(new Set(typeNames));\n",
    "\n",
    "const types = typeNames.map(typeName => data.map(d => d[1][typeName] || 0));\n",
    "\n",
    "IPython.notebook.kernel.execute('dates=' + JSON.stringify(dates));\n",
    "IPython.notebook.kernel.execute('typeNames=' + JSON.stringify(typeNames));\n",
    "IPython.notebook.kernel.execute('types=' + JSON.stringify(types));\n",
    "\n",
    "}\n",
    "''')\n",
    "\n",
    "html_template = Template('''\n",
    "<script> $js_text </script>\n",
    "''')\n",
    "\n",
    "js_text = js_text_template.substitute({'python_data': json.dumps(data, default=date_converter)})\n",
    "HTML(html_template.substitute({'js_text': js_text}))"
   ]
  },
  {
   "cell_type": "code",
   "execution_count": 118,
   "metadata": {},
   "outputs": [
    {
     "name": "stdout",
     "output_type": "stream",
     "text": [
      "High five! You successfully sent some data to your account on plotly. View your plot in your browser at https://plot.ly/~poying/0 or inside your plot.ly account where it is named 'line-mode'\n"
     ]
    },
    {
     "data": {
      "text/html": [
       "<iframe id=\"igraph\" scrolling=\"no\" style=\"border:none;\" seamless=\"seamless\" src=\"https://plot.ly/~poying/0.embed\" height=\"525px\" width=\"100%\"></iframe>"
      ],
      "text/plain": [
       "<plotly.tools.PlotlyDisplay object>"
      ]
     },
     "execution_count": 118,
     "metadata": {},
     "output_type": "execute_result"
    }
   ],
   "source": [
    "lines = [go.Scatter(x=dates, y=typ, mode='lines', name=typeNames[i]) for i, typ in enumerate(types)]\n",
    "py.iplot(lines, filename='line-mode')"
   ]
  },
  {
   "cell_type": "code",
   "execution_count": null,
   "metadata": {},
   "outputs": [],
   "source": []
  }
 ],
 "metadata": {
  "kernelspec": {
   "display_name": "Python 3",
   "language": "python",
   "name": "python3"
  },
  "language_info": {
   "codemirror_mode": {
    "name": "ipython",
    "version": 2
   },
   "file_extension": ".py",
   "mimetype": "text/x-python",
   "name": "python",
   "nbconvert_exporter": "python",
   "pygments_lexer": "ipython2",
   "version": "2.7.10"
  }
 },
 "nbformat": 4,
 "nbformat_minor": 2
}
